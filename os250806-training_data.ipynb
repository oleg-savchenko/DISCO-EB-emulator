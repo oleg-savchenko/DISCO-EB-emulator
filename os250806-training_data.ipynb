{
 "cells": [
  {
   "cell_type": "code",
   "execution_count": 1,
   "metadata": {},
   "outputs": [],
   "source": [
    "import numpy as np\n",
    "from typing import Tuple, List, Dict, Any, Optional"
   ]
  },
  {
   "cell_type": "code",
   "execution_count": 4,
   "metadata": {},
   "outputs": [],
   "source": [
    "def generate_dummy_data(probe: str, n_samples: int = 10000) -> Tuple[np.ndarray, np.ndarray, List[str], np.ndarray]:\n",
    "    \"\"\"Generate dummy training data for testing.\"\"\"\n",
    "\n",
    "    if probe in ['cmb_tt', 'cmb_ee', 'cmb_te', 'cmb_pp']:\n",
    "        # CMB parameters: omega_b, omega_cdm, h, tau, n_s, ln10^10A_s\n",
    "        parameters = ['omega_b', 'omega_cdm', 'h', 'tau_reio', 'n_s', 'ln10^{10}A_s']\n",
    "        params = np.array([\n",
    "            np.random.uniform(0.019, 0.025, n_samples),  # omega_b\n",
    "            np.random.uniform(0.10, 0.14, n_samples),   # omega_cdm\n",
    "            np.random.uniform(0.64, 0.74, n_samples),   # h\n",
    "            np.random.uniform(0.04, 0.12, n_samples),   # tau\n",
    "            np.random.uniform(0.92, 1.00, n_samples),   # n_s\n",
    "            np.random.uniform(2.9, 3.3, n_samples)      # ln10^10A_s\n",
    "        ]).T\n",
    "\n",
    "        # CMB modes (ell)\n",
    "        modes = np.arange(2, 2509)\n",
    "        n_modes = len(modes)\n",
    "\n",
    "        # Generate dummy spectra with realistic CMB-like shape\n",
    "        spectra = np.zeros((n_samples, n_modes))\n",
    "        for i in range(n_samples):\n",
    "            # Simple CMB-like power spectrum\n",
    "            ell = modes.astype(float)\n",
    "            As = 10**(params[i, 5] - 10)  # A_s\n",
    "            ns = params[i, 4]             # n_s\n",
    "\n",
    "            # Simplified CMB spectrum\n",
    "            spectra[i] = As * (ell / 100)**(ns - 1) * np.exp(-ell / 1000) * 1e12\n",
    "\n",
    "    elif probe in ['mpk_lin', 'mpk_boost']:\n",
    "        # Matter power spectrum parameters\n",
    "        parameters = ['omega_b', 'omega_cdm', 'h', 'n_s', 'ln10^{10}A_s', 'z']\n",
    "        params = np.array([\n",
    "            np.random.uniform(0.019, 0.025, n_samples),  # omega_b\n",
    "            np.random.uniform(0.10, 0.14, n_samples),   # omega_cdm\n",
    "            np.random.uniform(0.64, 0.74, n_samples),   # h\n",
    "            np.random.uniform(0.92, 1.00, n_samples),   # n_s\n",
    "            np.random.uniform(2.9, 3.3, n_samples),     # ln10^10A_s\n",
    "            np.random.uniform(0.0, 3.0, n_samples)      # z\n",
    "        ]).T\n",
    "\n",
    "        # k modes\n",
    "        modes = np.logspace(-4, 2, 420)  # k in h/Mpc\n",
    "        n_modes = len(modes)\n",
    "\n",
    "        # Generate dummy matter power spectra\n",
    "        spectra = np.zeros((n_samples, n_modes))\n",
    "        for i in range(n_samples):\n",
    "            k = modes\n",
    "            As = 10**(params[i, 4] - 10)  # A_s\n",
    "            ns = params[i, 3]             # n_s\n",
    "            z = params[i, 5]              # redshift\n",
    "\n",
    "            # Simple matter power spectrum\n",
    "            if probe == 'mpk_lin':\n",
    "                spectra[i] = As * (k / 0.05)**(ns - 1) * (1 + z)**(-2) * 1e4\n",
    "            else:  # mpk_boost\n",
    "                spectra[i] = 1 + 0.1 * k * (1 + z)  # Simple boost factor\n",
    "\n",
    "    else:\n",
    "        raise ValueError(f\"Unknown probe: {probe}\")\n",
    "\n",
    "    return params, spectra, parameters, modes"
   ]
  },
  {
   "cell_type": "code",
   "execution_count": 5,
   "metadata": {},
   "outputs": [
    {
     "name": "stdout",
     "output_type": "stream",
     "text": [
      "(5000, 6) (5000, 420) (420,)\n"
     ]
    }
   ],
   "source": [
    "probe = 'mpk_lin'  # Can be 'cmb_tt', 'cmb_ee', 'cmb_te', 'cmb_pp', 'mpk_lin', 'mpk_boost', etc.\n",
    "n_samples = 5000  # Number of training samples\n",
    "n_test = 100      # Number of test samples\n",
    "\n",
    "params, spectra, parameters, modes = generate_dummy_data(probe, n_samples)\n",
    "print(params.shape, spectra.shape, modes.shape)"
   ]
  },
  {
   "cell_type": "code",
   "execution_count": 2,
   "metadata": {},
   "outputs": [],
   "source": [
    "training_data = np.load('./training_data/training_data_disco_eb.npz')\n",
    "training_data = {key: training_data[key] for key in training_data.files}\n",
    "\n",
    "cosmo_params_samples = training_data['cosmo_params_samples']\n",
    "Pks = training_data['power_spectra']"
   ]
  },
  {
   "cell_type": "code",
   "execution_count": 5,
   "metadata": {},
   "outputs": [
    {
     "name": "stdout",
     "output_type": "stream",
     "text": [
      "False False\n",
      "True True\n"
     ]
    }
   ],
   "source": [
    "print(np.isnan(cosmo_params_samples).any(), np.isnan(Pks).any())\n",
    "print(np.all(cosmo_params_samples > 0), np.all(Pks > 0))"
   ]
  },
  {
   "cell_type": "code",
   "execution_count": 14,
   "metadata": {},
   "outputs": [
    {
     "data": {
      "text/plain": [
       "['omega_b', 'omega_cdm', 'h', 'n_s', 'ln10^{10}A_s', 'z']"
      ]
     },
     "execution_count": 14,
     "metadata": {},
     "output_type": "execute_result"
    }
   ],
   "source": [
    "cosmo_params_names = ['omega_b', 'omega_cdm', 'h', 'n_s', 'ln10^{10}A_s', 'z']\n",
    "list(training_data['cosmo_params_names'])"
   ]
  },
  {
   "cell_type": "code",
   "execution_count": 15,
   "metadata": {},
   "outputs": [
    {
     "data": {
      "text/plain": [
       "dict_keys(['cosmo_params_samples', 'k_modes', 'power_spectra', 'cosmo_params_names'])"
      ]
     },
     "execution_count": 15,
     "metadata": {},
     "output_type": "execute_result"
    }
   ],
   "source": [
    "training_data.keys()"
   ]
  },
  {
   "cell_type": "code",
   "execution_count": 10,
   "metadata": {},
   "outputs": [],
   "source": [
    "np.savez('./training_data/training_data_disco_eb.npz', **training_data)"
   ]
  },
  {
   "cell_type": "code",
   "execution_count": 17,
   "metadata": {},
   "outputs": [
    {
     "name": "stdout",
     "output_type": "stream",
     "text": [
      "(9000, 6) (9000, 256) (256,)\n"
     ]
    }
   ],
   "source": [
    "params, spectra, parameters, modes = training_data['cosmo_params_samples'][:9000], training_data['power_spectra'][:9000], training_data['cosmo_params_names'], training_data['k_modes']\n",
    "print(params.shape, spectra.shape, modes.shape)"
   ]
  },
  {
   "cell_type": "code",
   "execution_count": 20,
   "metadata": {},
   "outputs": [
    {
     "data": {
      "text/plain": [
       "numpy.ndarray"
      ]
     },
     "execution_count": 20,
     "metadata": {},
     "output_type": "execute_result"
    }
   ],
   "source": [
    "type(modes)"
   ]
  },
  {
   "cell_type": "code",
   "execution_count": null,
   "metadata": {},
   "outputs": [],
   "source": []
  }
 ],
 "metadata": {
  "kernelspec": {
   "display_name": "Python 3 (ipykernel)",
   "language": "python",
   "name": "python3"
  },
  "language_info": {
   "codemirror_mode": {
    "name": "ipython",
    "version": 3
   },
   "file_extension": ".py",
   "mimetype": "text/x-python",
   "name": "python",
   "nbconvert_exporter": "python",
   "pygments_lexer": "ipython3",
   "version": "3.10.4"
  }
 },
 "nbformat": 4,
 "nbformat_minor": 2
}
