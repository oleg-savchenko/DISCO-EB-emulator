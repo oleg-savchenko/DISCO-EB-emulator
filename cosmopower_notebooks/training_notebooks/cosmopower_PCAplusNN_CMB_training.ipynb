{
 "cells": [
  {
   "cell_type": "markdown",
   "metadata": {
    "id": "g1V4CZrYEqXm"
   },
   "source": [
    "| | |\n",
    "| --- | --- |\n",
    "| **Author** | Alessio Spurio Mancini |\n",
    "| **email** | a.spuriomancini@ucl.ac.uk |\n",
    "\n",
    "<div align=\"center\"><img src='https://drive.google.com/uc?id=1KTafFIJzWQTBdtdd6xrI7OszfhpZYkVM' width=\"400\" height=\"300\"></div>"
   ]
  },
  {
   "cell_type": "markdown",
   "metadata": {},
   "source": [
    "This notebook can also be run on Colab [![Open In Colab](https://colab.research.google.com/assets/colab-badge.svg)](https://colab.research.google.com/drive/1G8vABcUk9yztXYDx8bDFaNhJrtVIA5ei?usp=sharing)"
   ]
  },
  {
   "cell_type": "markdown",
   "metadata": {
    "id": "iFVu43WWssWj"
   },
   "source": [
    "---\n",
    "---\n",
    "# **INTRODUCTION**\n",
    "---\n",
    "---"
   ]
  },
  {
   "cell_type": "markdown",
   "metadata": {
    "id": "CDUW-8l2Enlf"
   },
   "source": [
    "In this notebook we will train a neural network emulator of Principal Component Analysis (PCA) coefficients of Cosmic Microwave Background (CMB) power spectra, using the ``cosmopower_PCAplusNN`` class. As an example we will consider here emulation of $\\boldsymbol{\\phi}\\boldsymbol{\\phi}$ lensing potential power spectra. Note that this just an example and the procedure is analogous for other CMB power spectra, as well as for the matter power spectrum.\n",
    " \n",
    "\n",
    "<img src='https://drive.google.com/uc?id=13Y4HJgHY-wVnsqP4OHR6hyuAfDPQ9i8o'>\n",
    "\n",
    "The goal is to \n",
    "\n",
    "- perform a PCA compression of training spectra into $n_{\\mathrm{PCA}}$ Principal Components, \n",
    "\n",
    "- learn a mapping between cosmological parameters $\\boldsymbol{\\theta}$ and coefficients $\\boldsymbol{\\alpha}$ in the PCA decomposition of the power spectra $\\boldsymbol{P}_\\lambda$ (where $P_\\lambda= \\boldsymbol{C}_\\ell$ in this CMB example). Denoting with $\\boldsymbol{w}$ the collection of weights and biases of the $n$ nodes in our neural network, \n",
    "$\\boldsymbol{w}= \\{ \\boldsymbol{W}_1, \\boldsymbol{b}_1, \\boldsymbol{W}_2, \\boldsymbol{b}_2, \\dots \\boldsymbol{W}_n, \\boldsymbol{b}_n \\}$, $\\boldsymbol{w}$ parameterizes the mapping between parameters $\\boldsymbol{\\theta}$ and PCA coefficients $\\boldsymbol{\\alpha}$. \n",
    " \n",
    "The PCA coefficients $\\boldsymbol{\\alpha} = \\{\\alpha_{i}\\}$ for $i = 1, \\dots n_{\\mathrm{PCA}}$ can be interpreted as coefficients in a basis given by the PCA basis functions $\\{q_{\\lambda, i}\\}, i = 1, \\dots n_{\\mathrm{PCA}}$ ($\\{q_{\\lambda, i}\\}= \\{q_{\\ell, i}\\}$ in this CMB example). Once we obtain estimates for $\\boldsymbol{\\alpha}$, we can use the PCA basis functions to \"invert\" the PCA compression and build a prediction for the spectra.\n",
    "\n",
    "\n",
    "**NOTE**: Whenever possible, we recommend taking the logarithm of the power spectra to reduce their dynamic range. The mapping learnt by the neural network becomes then effectively a function between cosmological parameters and PCA coefficients of the *log*-power spectra. \n",
    "\n",
    "If (as in this notebook!) log-spectra are used as training samples, ``cosmopower_PCAplusNN`` has built-in methods that can be called to output either directly the log-spectra (sometimes this may be preferrable for e.g. interpolation), or the spectra obtained by exponentiating 10 to the output of the network (see an example of this in the \"Testing\" section of this notebook).  "
   ]
  },
  {
   "cell_type": "markdown",
   "metadata": {
    "id": "8NQyktNjPrHg"
   },
   "source": [
    "---\n",
    "---\n",
    "# **PRELIMINARY OPERATIONS** \n",
    "---\n",
    "---"
   ]
  },
  {
   "cell_type": "markdown",
   "metadata": {
    "id": "ncuT-7G1EiMv"
   },
   "source": [
    "We will start with a few imports, as well as with checking that the notebook is running on a GPU - this is strongly recommended to speed up the training process."
   ]
  },
  {
   "cell_type": "code",
   "execution_count": null,
   "metadata": {
    "id": "YYsBo-3R1Nl-"
   },
   "outputs": [],
   "source": [
    "import tensorflow as tf\n",
    "import numpy as np\n",
    "import matplotlib.pyplot as plt\n",
    "import os\n",
    "from IPython.display import display, clear_output"
   ]
  },
  {
   "cell_type": "code",
   "execution_count": null,
   "metadata": {},
   "outputs": [],
   "source": [
    "# checking that we are using a GPU\n",
    "device = 'gpu:0' if tf.test.is_gpu_available() else 'cpu'\n",
    "print('using', device, 'device \\n')"
   ]
  },
  {
   "cell_type": "markdown",
   "metadata": {
    "id": "GyJVlJhaRpze"
   },
   "source": [
    "We will also set the random seed, for reproducibility of results. \n",
    "Remember to comment/delete this cell when using `cosmopower_PCAplusNN` to train your own model! "
   ]
  },
  {
   "cell_type": "code",
   "execution_count": null,
   "metadata": {
    "id": "vzU9F5rSRaTr"
   },
   "outputs": [],
   "source": [
    "# setting the seed for reproducibility - comment this when training your own model!\n",
    "np.random.seed(1)\n",
    "tf.random.set_seed(2)"
   ]
  },
  {
   "cell_type": "markdown",
   "metadata": {
    "id": "7GIndU8g2qTk"
   },
   "source": [
    "---\n",
    "---\n",
    "# **TRAINING/TESTING DATA DOWNLOAD**\n",
    "---\n",
    "---"
   ]
  },
  {
   "cell_type": "markdown",
   "metadata": {
    "id": "oScHqekIEVdw"
   },
   "source": [
    "Here we will download the datasets for training and testing our emulator.\n",
    "\n",
    "For the illustrative purposes of this notebook, we will use datasets of modest size. These are publicly shared via Google Drive links. Due to the size limits to file sharing via Google Drive, we uploaded the training and testing datasets used in [the CosmoPower release paper](https://arxiv.org/abs/2106.03846) on Zenodo. The user who wants to e.g. reproduce the results of the ``CosmoPower`` release paper is invited to download these files."
   ]
  },
  {
   "cell_type": "code",
   "execution_count": null,
   "metadata": {
    "colab": {
     "base_uri": "https://localhost:8080/"
    },
    "id": "Q_S2i8BQl7TG",
    "outputId": "cd846a4e-744b-4290-d3c6-b365223d9bc4"
   },
   "outputs": [
    {
     "name": "stdout",
     "output_type": "stream",
     "text": [
      "Downloading...\n",
      "From: https://drive.google.com/uc?id=1tuljeR8TOpW_UF74g7ZVVNXCSXXwBhwW\n",
      "To: /home/camb_pp_testing_params.npz\n",
      "100% 459k/459k [00:00<00:00, 64.8MB/s]\n",
      "Downloading...\n",
      "From: https://drive.google.com/uc?id=1fHuqBsIypBIY_dwpkWL2KqAoF6WLc6aW\n",
      "To: /home/camb_pp_testing_log_spectra.npz\n",
      "100% 191M/191M [00:00<00:00, 209MB/s]\n",
      "Downloading...\n",
      "From: https://drive.google.com/uc?id=1DDyOUTR41s3Ij1igFt3Bnimf8qjB-82r\n",
      "To: /home/camb_pp_training_params_1.npz\n",
      "100% 721k/721k [00:00<00:00, 95.8MB/s]\n",
      "Downloading...\n",
      "From: https://drive.google.com/uc?id=1_RYv4lAvbSTowb9vY7kOYOmobnn8ztri\n",
      "To: /home/camb_pp_training_log_spectra_1.npz\n",
      "100% 301M/301M [00:01<00:00, 217MB/s]\n",
      "Downloading...\n",
      "From: https://drive.google.com/uc?id=1lXJmUHjQR1bCq_Yi0PhHcezDPOA73VSI\n",
      "To: /home/camb_pp_training_params_2.npz\n",
      "100% 721k/721k [00:00<00:00, 97.3MB/s]\n",
      "Downloading...\n",
      "From: https://drive.google.com/uc?id=1gXqDB8zIo1ppZ7Kk2gzscPQL4KkBqBDE\n",
      "To: /home/camb_pp_training_log_spectra_2.npz\n",
      "100% 301M/301M [00:01<00:00, 203MB/s]\n",
      "Downloading...\n",
      "From: https://drive.google.com/uc?id=124Taebtyh795zdAqH_GzGrMLLVjL1NtW\n",
      "To: /home/camb_pp_training_params_3.npz\n",
      "100% 607k/607k [00:00<00:00, 82.4MB/s]\n",
      "Downloading...\n",
      "From: https://drive.google.com/uc?id=14YGYohMe8MzBlPtePQcK_FSLbxgC7R33\n",
      "To: /home/camb_pp_training_log_spectra_3.npz\n",
      "100% 253M/253M [00:01<00:00, 184MB/s]\n"
     ]
    }
   ],
   "source": [
    "# Download data to the /home folder of this Colab computer\n",
    "!gdown --id 1tuljeR8TOpW_UF74g7ZVVNXCSXXwBhwW -O ./camb_pp_testing_params.npz\n",
    "!gdown --id 1fHuqBsIypBIY_dwpkWL2KqAoF6WLc6aW -O ./camb_pp_testing_log_spectra.npz\n",
    "!gdown --id 1DDyOUTR41s3Ij1igFt3Bnimf8qjB-82r -O ./camb_pp_training_params_1.npz\n",
    "!gdown --id 1_RYv4lAvbSTowb9vY7kOYOmobnn8ztri -O ./camb_pp_training_log_spectra_1.npz\n",
    "!gdown --id 1lXJmUHjQR1bCq_Yi0PhHcezDPOA73VSI -O ./camb_pp_training_params_2.npz\n",
    "!gdown --id 1gXqDB8zIo1ppZ7Kk2gzscPQL4KkBqBDE -O ./camb_pp_training_log_spectra_2.npz\n",
    "!gdown --id 124Taebtyh795zdAqH_GzGrMLLVjL1NtW -O ./camb_pp_training_params_3.npz\n",
    "!gdown --id 14YGYohMe8MzBlPtePQcK_FSLbxgC7R33 -O ./camb_pp_training_log_spectra_3.npz"
   ]
  },
  {
   "cell_type": "markdown",
   "metadata": {
    "id": "Y68FO6uMJUzT"
   },
   "source": [
    "### **PARAMETER FILES**"
   ]
  },
  {
   "cell_type": "markdown",
   "metadata": {
    "id": "abt4A5RT2FzR"
   },
   "source": [
    "Let's take a look at the content of these files, starting with the parameter samples of the training set. Let's load _one_ of these files (the others have the same type of content):\n",
    "\n"
   ]
  },
  {
   "cell_type": "code",
   "execution_count": null,
   "metadata": {
    "id": "dXflAMoIiYYR"
   },
   "outputs": [],
   "source": [
    "# one file with training parameters\n",
    "training_parameters_1 = np.load('./camb_pp_training_params_1.npz')"
   ]
  },
  {
   "cell_type": "markdown",
   "metadata": {
    "id": "R8uNnzEC5Jpx"
   },
   "source": [
    "`training_parameters_1` is a `dict` of `np.arrays`. There is a `dict` key for each of the parameters the emulator is going to be trained on:"
   ]
  },
  {
   "cell_type": "code",
   "execution_count": null,
   "metadata": {
    "colab": {
     "base_uri": "https://localhost:8080/"
    },
    "id": "nXGpfJyn0472",
    "outputId": "0e88883c-604a-47fd-a473-871847599c72"
   },
   "outputs": [
    {
     "name": "stdout",
     "output_type": "stream",
     "text": [
      "['omega_b', 'omega_cdm', 'h', 'tau_reio', 'n_s', 'ln10^{10}A_s']\n"
     ]
    }
   ],
   "source": [
    "print(training_parameters_1.files)"
   ]
  },
  {
   "cell_type": "markdown",
   "metadata": {
    "id": "g1_0l-Jx2hCU"
   },
   "source": [
    "Each of these keys has an associated `np.array` of values. The length of these arrays is the number of training samples in that file. Each file may have a different number of samples; their total number is the total number of samples in our training set. For example, let's check how many training samples are contained in the file we loaded:"
   ]
  },
  {
   "cell_type": "code",
   "execution_count": null,
   "metadata": {
    "colab": {
     "base_uri": "https://localhost:8080/"
    },
    "id": "2L6IwbA43Gt7",
    "outputId": "31262734-d8b0-4cc4-d17c-0903e0af4b3e"
   },
   "outputs": [
    {
     "name": "stdout",
     "output_type": "stream",
     "text": [
      "[0.03959524 0.03194429 0.03467569 ... 0.03080418 0.01733493 0.03203036]\n",
      "number of training samples in this file:  15000\n"
     ]
    }
   ],
   "source": [
    "print(training_parameters_1['omega_b'])\n",
    "print('number of training samples in this file: ', len(training_parameters_1['omega_b'])) # same for all of the other parameters"
   ]
  },
  {
   "cell_type": "markdown",
   "metadata": {
    "id": "F8SIOZTgJcfW"
   },
   "source": [
    "### **FEATURE FILES** "
   ]
  },
  {
   "cell_type": "markdown",
   "metadata": {
    "id": "VrRUihe83qcv"
   },
   "source": [
    "Now let's take a look at the \"features\". With features here we refer to the predictions of the neural network: these may be spectra or log-spectra values. In this case we are emulating values of the $\\boldsymbol{\\phi} \\boldsymbol{\\phi}$ _log_-power spectra. The corresponding `.npz` files contain a `dict` with two keys:"
   ]
  },
  {
   "cell_type": "code",
   "execution_count": null,
   "metadata": {
    "colab": {
     "base_uri": "https://localhost:8080/"
    },
    "id": "IHy-ZM4o46e-",
    "outputId": "5097fe09-e2db-4446-ec58-9de3a6a6ac09"
   },
   "outputs": [
    {
     "name": "stdout",
     "output_type": "stream",
     "text": [
      "['modes', 'features']\n"
     ]
    }
   ],
   "source": [
    "# training features in this file\n",
    "training_features_1 = np.load('./camb_pp_training_log_spectra_1.npz')\n",
    "print(training_features_1.files)"
   ]
  },
  {
   "cell_type": "markdown",
   "metadata": {
    "id": "IF4-OxwP50wy"
   },
   "source": [
    "The first key, `modes`, contains a `np.array` of the sampled Fourier modes. In this CMB case, the `modes` are the sampled $\\ell$ multipoles; in the matter power spectrum case, `modes` would contain the sampled $k$-modes. In this specific example the log-power spectra are sampled at each multipole $\\ell$ in the range $[2, \\dots 2508]$, hence each training log-spectrum is a 2507-dimensional array."
   ]
  },
  {
   "cell_type": "code",
   "execution_count": null,
   "metadata": {
    "colab": {
     "base_uri": "https://localhost:8080/"
    },
    "id": "h0_vHiL86Bfl",
    "outputId": "2eb3f858-2851-4104-d29c-d32db28caea6"
   },
   "outputs": [
    {
     "name": "stdout",
     "output_type": "stream",
     "text": [
      "[   2    3    4 ... 2506 2507 2508]\n",
      "number of multipoles:  2507\n"
     ]
    }
   ],
   "source": [
    "print(training_features_1['modes'])\n",
    "print('number of multipoles: ', len(training_features_1['modes']))"
   ]
  },
  {
   "cell_type": "markdown",
   "metadata": {
    "id": "_19lIZop6TQA"
   },
   "source": [
    "The second key, `features`, has values equal to the actual values of the spectra. These are collected in a `np.array` of shape \n",
    "\n",
    "(number of training samples *in this file*, number of Fourier modes):"
   ]
  },
  {
   "cell_type": "code",
   "execution_count": null,
   "metadata": {
    "colab": {
     "base_uri": "https://localhost:8080/"
    },
    "id": "lQAQRoQs6nGy",
    "outputId": "3bff1f91-6662-4292-9c1c-c751a72e90f7"
   },
   "outputs": [
    {
     "name": "stdout",
     "output_type": "stream",
     "text": [
      "(number of training samples in this file, number of ell modes):  (15000, 2507)\n"
     ]
    }
   ],
   "source": [
    "training_log_spectra_1 = training_features_1['features']\n",
    "print('(number of training samples in this file, number of ell modes): ', training_log_spectra_1.shape)"
   ]
  },
  {
   "cell_type": "markdown",
   "metadata": {
    "id": "jAcAiEKsWo1V"
   },
   "source": [
    "All of the other training features files have the same type of content, although the number of samples in each file may differ. The total number of samples in all of the training files represents the size of our training set."
   ]
  },
  {
   "cell_type": "markdown",
   "metadata": {
    "id": "UGnS47Dj7Fs4"
   },
   "source": [
    "The files for the testing samples also have the same type of content as the training ones, hence here we simply load them directly. "
   ]
  },
  {
   "cell_type": "code",
   "execution_count": null,
   "metadata": {
    "id": "3Aa5P5zCsaNf"
   },
   "outputs": [],
   "source": [
    "# testing parameters\n",
    "testing_params = np.load('./camb_pp_testing_params.npz')\n",
    "# testing features\n",
    "testing_spectra = 10.**np.load('./camb_pp_testing_log_spectra.npz')['features'] # sampled modes are same as in training files. Transofrm log -> spectra as we only use these for testing"
   ]
  },
  {
   "cell_type": "markdown",
   "metadata": {
    "id": "83cCKejC81q5"
   },
   "source": [
    "---\n",
    "---\n",
    "# **`cosmopower_PCA` INSTANTIATION**\n",
    "---\n",
    "---"
   ]
  },
  {
   "cell_type": "markdown",
   "metadata": {
    "id": "XqBB7NpoEaUS"
   },
   "source": [
    "We will now create an instance of the ``cosmopower_PCA`` class, which will be used to perform PCA compression of the training spectra. This instance of the ``cosmopower_PCA`` will then be passed as an input to the ``cosmopower_PCAplusNN`` class, which implements the actual emulator of PCA components. \n",
    "\n",
    "In order to instantiate the ``cosmopower_PCA`` class, we will first need to define some of the key aspects of our model."
   ]
  },
  {
   "cell_type": "markdown",
   "metadata": {
    "id": "2oIaJjVkh4Yo"
   },
   "source": [
    "### **PARAMETERS** \n",
    "\n",
    "Let's start by defining the parameters of our model. \n",
    "\n",
    "If, for example, we want to emulate over a set of 6 standard $\\Lambda$CDM parameters,\n",
    "\n",
    "$\\omega_{\\mathrm{b}}, \\omega_{\\mathrm{cdm}}, h, \\tau, n_s, \\ln10^{10}A_s$\n",
    "\n",
    "we need to create a `list` with the names of all of these parameters, in _arbitrary_ order:     "
   ]
  },
  {
   "cell_type": "code",
   "execution_count": null,
   "metadata": {
    "id": "QUfBM7jYh3bG"
   },
   "outputs": [],
   "source": [
    "# list of parameter names, in arbitrary order\n",
    "model_parameters = ['h', \n",
    "                    'tau_reio', \n",
    "                    'omega_b', \n",
    "                    'n_s', \n",
    "                    'ln10^{10}A_s', \n",
    "                    'omega_cdm', \n",
    "                    ]"
   ]
  },
  {
   "cell_type": "markdown",
   "metadata": {
    "id": "UaUjbzHLOMgA"
   },
   "source": [
    "This `list` will be sent in input to ``cosmopower_PCA``. In turn, a ``cosmopower_PCA`` instance will be fed to the `cosmopower_PCAplusNN` class, which will use the information on the parameters of our model: \n",
    "\n",
    "- to derive the *number* of parameters in our model, equal to the number of elements in `model_parameters`. This number also corresponds to the number of nodes in the input layer of the neural network;\n",
    "\n",
    "- to free the user from the burden of having to manually perform any ordering of the input parameters.\n",
    "\n",
    "The latter point guarantees flexibility and simplicity while using `cosmopower_PCAplusNN`: to obtain predictions for a set of parameters, the user simply needs to feed a Python `dict` to `cosmopower_PCAplusNN`, without having to worry about the ordering of the input parameters. \n",
    "\n",
    "For example, if I wanted to know the neural network prediction for a single set of parameters, I would collect them in the following `dict`:\n",
    "\n",
    "```python\n",
    "example_single_set_input_parameters = {'n_s': 0.96, \n",
    "                                       'h': 0.7, \n",
    "                                       'omega_b': 0.0225, \n",
    "                                       'omega_cdm': 0.13, \n",
    "                                       'tau_reio': 0.06, \n",
    "                                       'ln10^{10}A_s': 3.07, \n",
    "                                        }\n",
    "```\n",
    "\n",
    "Similarly, if I wanted to ask `cosmopower_PCAplusNN` for e.g. the predictions for 3 parameter sets, I would use:\n",
    "\n",
    "```python\n",
    "example_multiple_sets_input_parameters = {'n_s': np.array([0.96, 0.95, 0.97]), \n",
    "                                          'h': np.array([0.7, 0.64, 0.72]), \n",
    "                                          'omega_b': np.array([0.0225, 0.0226, 0.0213]), \n",
    "                                          'omega_cdm': np.array([0.11, 0.13, 0.12]), \n",
    "                                          'tau_reio': np.array([0.07,0.06, 0.08]), \n",
    "                                          'ln10^{10}A_s': np.array([2.97, 3.07, 3.04]), \n",
    "                                           }\n",
    "```\n",
    "The possibility of computing these batch predictions is particularly useful when ``cosmopower`` is integrated within samples that allow for batch evaluations of the likelihood."
   ]
  },
  {
   "cell_type": "markdown",
   "metadata": {
    "id": "apR42ZRas9AB"
   },
   "source": [
    "### **MODES**\n",
    "\n",
    "A second, important piece of information for the `cosmopower_PCA` class is the number of sampled Fourier modes in our spectra, i.e. the number of multipoles $\\ell$ for the CMB spectra, or the number of $k$-modes for the matter power spectrum.\n",
    "\n",
    "In this example, we will emulate all of the $\\ell$ multipoles between 2 and 2508. Note that we exclude $\\ell=0,1$ as these are always 0. We can read the sampled $\\ell$ range from the `modes` entry of our `training_features_1` dict (previously loaded):"
   ]
  },
  {
   "cell_type": "code",
   "execution_count": null,
   "metadata": {
    "colab": {
     "base_uri": "https://localhost:8080/"
    },
    "id": "UgEmvoj6fa4Z",
    "outputId": "ede3a8a7-e8b1-415c-fe75-9e4940fac96b"
   },
   "outputs": [
    {
     "name": "stdout",
     "output_type": "stream",
     "text": [
      "ell range:  [   2    3    4 ... 2506 2507 2508]\n"
     ]
    }
   ],
   "source": [
    "ell_range = training_features_1['modes']\n",
    "print('ell range: ', ell_range)"
   ]
  },
  {
   "cell_type": "markdown",
   "metadata": {
    "id": "gygCUqkNu2VV"
   },
   "source": [
    "### **NUMBER OF PCA COMPONENTS**"
   ]
  },
  {
   "cell_type": "markdown",
   "metadata": {
    "id": "ojCMbOcHu9cy"
   },
   "source": [
    "We also need to inform ``cosmopower_PCA`` of how many PCA components we want to keep:"
   ]
  },
  {
   "cell_type": "code",
   "execution_count": null,
   "metadata": {
    "id": "hcE9QGYAu_ml"
   },
   "outputs": [],
   "source": [
    "n_pcas = 64"
   ]
  },
  {
   "cell_type": "markdown",
   "metadata": {
    "id": "UxlR_xPXtlfQ"
   },
   "source": [
    "### **CLASS INSTANTIATION**\n",
    "Finally, let's feed the information on model parameters, modes and number of PCA coefficients to the `cosmopower_PCA`class. We also need to input a ``list`` of\n",
    "- ``parameters_filenames``: collecting all of the files with parameter samples from the training set;\n",
    "- ``features_filenames``: collecting all of the files with feature samples from the training set."
   ]
  },
  {
   "cell_type": "code",
   "execution_count": null,
   "metadata": {
    "id": "1IQNRU-ScLiD"
   },
   "outputs": [],
   "source": [
    "parameters_filenames = ['./camb_pp_training_params_1', './camb_pp_training_params_2', './camb_pp_training_params_3']\n",
    "features_filenames = ['./camb_pp_training_log_spectra_1', './camb_pp_training_log_spectra_2', './camb_pp_training_log_spectra_3']"
   ]
  },
  {
   "cell_type": "code",
   "execution_count": null,
   "metadata": {
    "colab": {
     "base_uri": "https://localhost:8080/"
    },
    "id": "L4BmLowjiRau",
    "outputId": "73440678-4df8-4ed6-a3b3-aa2de760b3f3"
   },
   "outputs": [
    {
     "name": "stdout",
     "output_type": "stream",
     "text": [
      "\n",
      "Initialized cosmopower_PCA compression with 64 components \n",
      "\n"
     ]
    }
   ],
   "source": [
    "from cosmopower import cosmopower_PCA\n",
    "\n",
    "cp_pca = cosmopower_PCA(parameters=model_parameters,\n",
    "                        modes=ell_range,\n",
    "                        n_pcas=n_pcas,\n",
    "                        parameters_filenames=parameters_filenames,\n",
    "                        features_filenames=features_filenames,\n",
    "                        verbose=True, # useful to follow the various steps\n",
    "                        )"
   ]
  },
  {
   "cell_type": "markdown",
   "metadata": {
    "id": "iaX4XSZLvIup"
   },
   "source": [
    "\n",
    "---\n",
    "---\n",
    "\n",
    "# **PCA COMPRESSION**\n",
    "---\n",
    "---"
   ]
  },
  {
   "cell_type": "markdown",
   "metadata": {
    "id": "IxpCWRfqdlvU"
   },
   "source": [
    "The ``transform_and_stack_training_data`` method of the ``cosmopower_PCA`` class runs the full compression pipeline on the training data. Note that ``cosmopower_PCA`` internally performs [IncrementalPCA](https://scikit-learn.org/stable/auto_examples/decomposition/plot_incremental_pca.html), allowing it to process input data in batches - this is why we did not collect the training data in _one_ single file. Leaving the input data in multiple files allows for a reduced computational burden in terms of memory requirements."
   ]
  },
  {
   "cell_type": "code",
   "execution_count": null,
   "metadata": {
    "colab": {
     "base_uri": "https://localhost:8080/"
    },
    "id": "02VkjkePvOcZ",
    "outputId": "1953db84-d11b-4152-89ba-601c634c06a6"
   },
   "outputs": [
    {
     "name": "stdout",
     "output_type": "stream",
     "text": [
      "starting PCA compression\n"
     ]
    },
    {
     "name": "stderr",
     "output_type": "stream",
     "text": [
      "100%|██████████| 3/3 [01:22<00:00, 27.52s/it]\n"
     ]
    },
    {
     "name": "stdout",
     "output_type": "stream",
     "text": [
      "PCA compression done\n",
      "parameters and PCA coefficients of training set stored in memory\n"
     ]
    }
   ],
   "source": [
    "cp_pca.transform_and_stack_training_data()"
   ]
  },
  {
   "cell_type": "markdown",
   "metadata": {
    "id": "qB6Kr7fSJqtS"
   },
   "source": [
    "---\n",
    "---\n",
    "# **``cosmopower_PCAplusNN`` INSTANTIATION**\n",
    "---\n",
    "---"
   ]
  },
  {
   "cell_type": "markdown",
   "metadata": {
    "id": "V8DEmBbghtDd"
   },
   "source": [
    "After having performed PCA compression of the training set with the ``cosmopower_PCA`` class, we can now feed this class to the ``cosmopower_PCAplusNN`` class. The latter represents the actual emulator, mapping parameters onto PCA coefficients. Hence, in initialising ``cosmopower_PCAplusNN`` we can decide on details of the network architecture:"
   ]
  },
  {
   "cell_type": "code",
   "execution_count": null,
   "metadata": {
    "colab": {
     "base_uri": "https://localhost:8080/"
    },
    "id": "mVBWrOdrKCwi",
    "outputId": "b15dcb3c-d974-4be6-d683-44ce1f45faae"
   },
   "outputs": [
    {
     "name": "stdout",
     "output_type": "stream",
     "text": [
      "\n",
      "Initialized cosmopower_PCAplusNN model, \n",
      "mapping 6 input parameters to 64 PCA components \n",
      "and then inverting the PCA compression to obtain 2507 modes \n",
      "The model uses 4 hidden layers, \n",
      "with [512, 512, 512, 512] nodes, respectively. \n",
      "\n"
     ]
    }
   ],
   "source": [
    "from cosmopower import cosmopower_PCAplusNN\n",
    "\n",
    "cp_pca_nn = cosmopower_PCAplusNN(cp_pca=cp_pca,\n",
    "                                 n_hidden=[512,512,512,512], # 4 hidden layers, each with 512 nodes\n",
    "                                 verbose=True, # useful to understand the different steps in initialisation and training\n",
    "                                 )"
   ]
  },
  {
   "cell_type": "markdown",
   "metadata": {
    "id": "ZH-y08FC54bH"
   },
   "source": [
    "---\n",
    "---\n",
    "# **TRAINING**\n",
    "---\n",
    "---"
   ]
  },
  {
   "cell_type": "markdown",
   "metadata": {
    "id": "dHFQuDIAExeE"
   },
   "source": [
    "In this section we will train our model. \n",
    "\n",
    "To do this, we will call the method `train()` from the `cosmopower_PCAplusNN` class.\n",
    "Here are the input arguments for this function:\n",
    "\n",
    "* `filename_saved_model`: path (without suffix) to the `.pkl` file where the trained model will be saved;\n",
    "\n",
    "* `validation split`: `float` between 0 and 1, percentage of samples from the training set that will be used for validation.\n",
    "\n",
    "\n",
    "Some of the input arguments allow for the implementation of a learning schedule with different steps, each characterised by a different learning rate. In addition to the learning rate, the user can change other hyperparameters, such as the batch size, at each learning step:\n",
    "\n",
    "* `learning_rates`: `list` of `float` values, the optimizer learning rate at each learning step;\n",
    "\n",
    "* `batch_sizes`: `list` of `float` values, batch size for each learning step;\n",
    "\n",
    "* `gradient_accumulation_steps`: `list` of `int` values, the number of accumulation batches if using gradient accumulation, at each learning step. Set these numbers to > 1 to activate gradient accumulation - only worth doing if using very large batch sizes;\n",
    "\n",
    "* `patience_values`: `list` of `int` values, the number of epochs to wait for early stopping, at each learning step;\n",
    "\n",
    "* `max_epochs`: `list` of `int` values, the maximum number of epochs for each learning step."
   ]
  },
  {
   "cell_type": "code",
   "execution_count": null,
   "metadata": {
    "colab": {
     "base_uri": "https://localhost:8080/"
    },
    "id": "m7V4KKRfln4w",
    "outputId": "5eaae926-f115-4486-aed3-ca47bf74ca6f"
   },
   "outputs": [
    {
     "name": "stdout",
     "output_type": "stream",
     "text": [
      "Starting cosmopower_PCAplusNN training, \n",
      "using 10 per cent of training samples for validation. \n",
      "Performing 5 learning steps, with \n",
      "[0.01, 0.001, 0.0001, 1e-05, 1e-06] learning rates \n",
      "[1024, 1024, 1024, 1024, 1024] batch sizes \n",
      "[1, 1, 1, 1, 1] gradient accumulation steps \n",
      "[100, 100, 100, 100, 100] patience values \n",
      "[1000, 1000, 1000, 1000, 1000] max epochs \n",
      "\n",
      "learning rate = 0.01, batch size = 1024\n"
     ]
    },
    {
     "name": "stderr",
     "output_type": "stream",
     "text": [
      " 32%|███▏      | 317/1000 [01:49<03:55,  2.90it/s, loss=2.31]\n"
     ]
    },
    {
     "name": "stdout",
     "output_type": "stream",
     "text": [
      "Validation loss = 1.0916091\n",
      "Model saved.\n",
      "Reached max number of epochs. Validation loss = 1.0916091\n",
      "Model saved.\n",
      "learning rate = 0.001, batch size = 1024\n"
     ]
    },
    {
     "name": "stderr",
     "output_type": "stream",
     "text": [
      " 48%|████▊     | 477/1000 [02:42<02:57,  2.94it/s, loss=0.23]\n"
     ]
    },
    {
     "name": "stdout",
     "output_type": "stream",
     "text": [
      "Validation loss = 0.106051564\n",
      "Model saved.\n",
      "Reached max number of epochs. Validation loss = 0.106051564\n",
      "Model saved.\n",
      "learning rate = 0.0001, batch size = 1024\n"
     ]
    },
    {
     "name": "stderr",
     "output_type": "stream",
     "text": [
      " 55%|█████▌    | 553/1000 [03:04<02:29,  2.99it/s, loss=0.0367]\n"
     ]
    },
    {
     "name": "stdout",
     "output_type": "stream",
     "text": [
      "Validation loss = 0.024769811\n",
      "Model saved.\n",
      "Reached max number of epochs. Validation loss = 0.024769811\n",
      "Model saved.\n",
      "learning rate = 1e-05, batch size = 1024\n"
     ]
    },
    {
     "name": "stderr",
     "output_type": "stream",
     "text": [
      " 10%|█         | 101/1000 [00:33<05:01,  2.98it/s, loss=0.0165]\n"
     ]
    },
    {
     "name": "stdout",
     "output_type": "stream",
     "text": [
      "Validation loss = 0.015659604\n",
      "Model saved.\n",
      "Reached max number of epochs. Validation loss = 0.015659604\n",
      "Model saved.\n",
      "learning rate = 1e-06, batch size = 1024\n"
     ]
    },
    {
     "name": "stderr",
     "output_type": "stream",
     "text": [
      " 10%|█         | 101/1000 [00:34<05:03,  2.96it/s, loss=0.0128]"
     ]
    },
    {
     "name": "stdout",
     "output_type": "stream",
     "text": [
      "Validation loss = 0.012717888\n",
      "Model saved.\n",
      "Reached max number of epochs. Validation loss = 0.012717888\n",
      "Model saved.\n"
     ]
    },
    {
     "name": "stderr",
     "output_type": "stream",
     "text": [
      "\n"
     ]
    }
   ],
   "source": [
    "with tf.device(device):\n",
    "    # train\n",
    "    cp_pca_nn.train(filename_saved_model='PP_cp_PCAplusNN_example',\n",
    "                    # cooling schedule\n",
    "                    validation_split=0.1,\n",
    "                    learning_rates=[1e-2, 1e-3, 1e-4, 1e-5, 1e-6],\n",
    "                    batch_sizes=[1024, 1024, 1024, 1024, 1024],\n",
    "                    gradient_accumulation_steps = [1, 1, 1, 1, 1],\n",
    "                    # early stopping set up\n",
    "                    patience_values = [100,100,100,100,100],\n",
    "                    max_epochs = [1000,1000,1000,1000,1000],\n",
    "                    )"
   ]
  },
  {
   "cell_type": "markdown",
   "metadata": {
    "id": "-29oIS3oiyNC"
   },
   "source": [
    "The model is trained! If you are satisfied with its performance on the testing set (see next section) you can download the `.pkl` file where the model was saved (given by the `filename_saved_model` argument of the `train` method of the `cosmopower_PCAplusNN` class)."
   ]
  },
  {
   "cell_type": "markdown",
   "metadata": {
    "id": "lJ3X82Zzvf4W"
   },
   "source": [
    "---\n",
    "---\n",
    "# **TESTING**\n",
    "---\n",
    "---"
   ]
  },
  {
   "cell_type": "markdown",
   "metadata": {
    "id": "qj2qOlqrWxjn"
   },
   "source": [
    "**N.B.: We remind the user that the purpose of this notebook is to merely provide an illustrative guide on how to train a `cosmopower_PCAplusNN` model. Therefore, you may find the following predictions on the testing parameters to be not accurate enough for your purposes - this is due to the limited size of the training set used in this notebook, shared via Google Drive (which imposes limits on the size of shareable files). For higher accuracy results, such as the ones reported in [the CosmoPower release paper](https://arxiv.org/abs/2106.03846), the user is invited to increase the size of the training dataset, by e.g. downloading the datasets available on Zenodo, which were used to produce the high accuracy results of [the CosmoPower release paper](https://arxiv.org/abs/2106.03846).**"
   ]
  },
  {
   "cell_type": "markdown",
   "metadata": {
    "id": "at7Q9jiMviTa"
   },
   "source": [
    "Let's load the trained model\n"
   ]
  },
  {
   "cell_type": "code",
   "execution_count": null,
   "metadata": {
    "id": "GnNI4WwgHILn"
   },
   "outputs": [],
   "source": [
    "cp_pca_nn = cosmopower_PCAplusNN(restore=True, \n",
    "                                 restore_filename='PP_cp_PCAplusNN_example'\n",
    "                                 )                                "
   ]
  },
  {
   "cell_type": "markdown",
   "metadata": {
    "id": "R0IypLN3kI1H"
   },
   "source": [
    "Let's compute the predictions for the testing parameters. Note that we use the function `ten_to_predictions_np`, which, given input parameters,\n",
    "\n",
    "* first performs forward passes of the trained model \n",
    "* and then computes 10^ these predictions.\n",
    "\n",
    "Since we trained our model to emulate _log-spectra_, the output of `ten_to_predictions_np` is then given by predicted _spectra_.\n",
    "\n",
    "**NOTE 1**: If we had trained our model to emulate spectra (without log), then to obtain predictions we would have used the function `predictions_np`.\n",
    "\n",
    "**NOTE 2**: the functions `ten_to_predictions_np` and `predictions_np` implement forward passes through the network using only Numpy. These are optimised to be used in pipelines developed in simple Python code (not pure-Tensorflow pipelines). \n",
    "\n",
    "Conversely, the functions `ten_to_predictions_tf` and `predictions_tf` are pure-Tensorflow implementations, and as such are optimised to be used in pure-Tensorflow pipelines.\n",
    "\n",
    "**NOTE 3**: both pure-Tensorflow and Numpy implementations allow for batch evaluation of input parameters - here, in particular, we can obtain predictions for all of the `testing_parameters` in just a single batch evaluation. "
   ]
  },
  {
   "cell_type": "code",
   "execution_count": null,
   "metadata": {
    "id": "g0F91_YAkK5l"
   },
   "outputs": [],
   "source": [
    "predicted_testing_spectra = cp_pca_nn.ten_to_predictions_np(testing_params)"
   ]
  },
  {
   "cell_type": "markdown",
   "metadata": {
    "id": "vpvz7S1Py_zw"
   },
   "source": [
    "Plot examples of power spectra predictions from the testing set"
   ]
  },
  {
   "cell_type": "code",
   "execution_count": null,
   "metadata": {
    "colab": {
     "base_uri": "https://localhost:8080/",
     "height": 481
    },
    "id": "GUPRqDIKwhYS",
    "outputId": "d1e0db13-cffd-4223-a366-724790cfb6d9"
   },
   "outputs": [
    {
     "data": {
      "image/png": "[encoded data removed]",
      "text/plain": [
       "<Figure size 3600x720 with 3 Axes>"
      ]
     },
     "metadata": {
      "needs_background": "light"
     },
     "output_type": "display_data"
    }
   ],
   "source": [
    "fig, ax = plt.subplots(nrows=1, ncols=3, figsize=(50,10))\n",
    "for i in range(3):\n",
    "    pred = predicted_testing_spectra[i]*ell_range*ell_range*(ell_range+1)*(ell_range+1)/(2.*np.pi)\n",
    "    true = testing_spectra[i]*ell_range*ell_range*(ell_range+1)*(ell_range+1)/(2.*np.pi)\n",
    "    ax[i].semilogx(ell_range, true, 'blue', label = 'Original')\n",
    "    ax[i].semilogx(ell_range, pred, 'red', label = 'NN reconstructed', linestyle='--')\n",
    "    ax[i].set_xlabel('$\\ell$', fontsize='x-large')\n",
    "    ax[i].set_ylabel('$\\\\frac{[\\ell(\\ell+1)]^2}{2 \\pi} C_\\ell$', fontsize='x-large')\n",
    "    ax[i].legend(fontsize=15)\n",
    "plt.savefig('examples_reconstruction_PP.pdf')"
   ]
  },
  {
   "cell_type": "markdown",
   "metadata": {
    "id": "zfYz7VnZJdaL"
   },
   "source": [
    "We want to plot accuracy in units of Simons Observatory (SO) noise curves. \n",
    "Start by loading SO noise curves from [the SO repository](https://github.com/simonsobs/so_noise_models) "
   ]
  },
  {
   "cell_type": "code",
   "execution_count": null,
   "metadata": {
    "colab": {
     "base_uri": "https://localhost:8080/"
    },
    "id": "CM0baRkTKgm1",
    "outputId": "e5ed1e48-e619-4e87-dfa7-b54d90be1268"
   },
   "outputs": [
    {
     "name": "stdout",
     "output_type": "stream",
     "text": [
      "Cloning into 'so_noise_models'...\n",
      "remote: Enumerating objects: 179, done.\u001b[K\n",
      "remote: Counting objects: 100% (179/179), done.\u001b[K\n",
      "remote: Compressing objects: 100% (129/129), done.\u001b[K\n",
      "remote: Total 179 (delta 69), reused 147 (delta 47), pack-reused 0\u001b[K\n",
      "Receiving objects: 100% (179/179), 7.96 MiB | 22.95 MiB/s, done.\n",
      "Resolving deltas: 100% (69/69), done.\n"
     ]
    }
   ],
   "source": [
    "!git clone https://github.com/simonsobs/so_noise_models"
   ]
  },
  {
   "cell_type": "code",
   "execution_count": null,
   "metadata": {
    "id": "2J1EZabvO1bQ"
   },
   "outputs": [],
   "source": [
    "# load noise models from the SO noise repo\n",
    "noise_levels_load = np.loadtxt('./so_noise_models/LAT_lensing_noise/lensing_v3_1_0/nlkk_v3_1_0deproj0_SENS1_fsky0p4_it_lT30-3000_lP30-5000.dat')"
   ]
  },
  {
   "cell_type": "code",
   "execution_count": null,
   "metadata": {
    "id": "WELDc5ZSirzr"
   },
   "outputs": [],
   "source": [
    "ells = noise_levels_load[:, 0]\n",
    "SO_PP_MV_noise = noise_levels_load[:, 7][:2507]"
   ]
  },
  {
   "cell_type": "code",
   "execution_count": null,
   "metadata": {
    "id": "hyUhA4T0ivot"
   },
   "outputs": [],
   "source": [
    "new_ells = ells[:2507] # 2509 is the final for our spectra, starting from 2\n",
    "SO_PP_MV_noise /= (new_ells*(new_ells+1)/2)**2 # convert from kappa_kappa to phi_phi"
   ]
  },
  {
   "cell_type": "code",
   "execution_count": null,
   "metadata": {
    "id": "cz_rPp6qIZmm"
   },
   "outputs": [],
   "source": [
    "f_sky = 0.4\n",
    "prefac = np.sqrt(2/(f_sky*(2*new_ells+1)))\n",
    "denominator = prefac*(testing_spectra+SO_PP_MV_noise)  # use all of them\n",
    "diff = np.abs((testing_spectra - predicted_testing_spectra)/(denominator))\n",
    "\n",
    "# Compute percentiles\n",
    "percentiles = np.zeros((4, diff.shape[1]))\n",
    "\n",
    "percentiles[0] = np.percentile(diff, 68, axis = 0)\n",
    "percentiles[1] = np.percentile(diff, 95, axis = 0)\n",
    "percentiles[2] = np.percentile(diff, 99, axis = 0)\n",
    "percentiles[3] = np.percentile(diff, 99.9, axis = 0)"
   ]
  },
  {
   "cell_type": "code",
   "execution_count": null,
   "metadata": {
    "colab": {
     "base_uri": "https://localhost:8080/",
     "height": 657
    },
    "id": "q9ih01BGd9uC",
    "outputId": "c5d6764d-024b-455a-dea0-9d9e6fb9080a"
   },
   "outputs": [
    {
     "data": {
      "image/png": "[encoded data removed]",
      "text/plain": [
       "<Figure size 864x648 with 1 Axes>"
      ]
     },
     "metadata": {
      "needs_background": "light"
     },
     "output_type": "display_data"
    }
   ],
   "source": [
    "plt.figure(figsize=(12, 9))\n",
    "plt.fill_between(new_ells, 0, percentiles[2,:], color = 'salmon', label = '99%', alpha=0.8)\n",
    "plt.fill_between(new_ells, 0, percentiles[1,:], color = 'red', label = '95%', alpha = 0.7)\n",
    "plt.fill_between(new_ells, 0, percentiles[0,:], color = 'darkred', label = '68%', alpha = 1)\n",
    "\n",
    "plt.ylim(0, 0.25)\n",
    "\n",
    "plt.legend(frameon=False, fontsize=30, loc='upper right')\n",
    "plt.ylabel(r'$\\frac{| C_{\\ell, \\rm{emulated}}^{\\phi \\phi} - C_{\\ell, \\rm{true}}^{\\phi \\phi}|} {\\sigma_{\\ell, \\rm{CMB}}^{\\phi \\phi}}$', fontsize=50)\n",
    "plt.xlabel(r'$\\ell$',  fontsize=50)\n",
    "\n",
    "ax = plt.gca()\n",
    "ax.xaxis.set_major_locator(plt.MaxNLocator(10))\n",
    "ax.yaxis.set_major_locator(plt.MaxNLocator(5))\n",
    "\n",
    "plt.setp(ax.get_xticklabels(), fontsize=25)\n",
    "plt.setp(ax.get_yticklabels(), fontsize=25)\n",
    "plt.tight_layout()\n",
    "plt.savefig('./accuracy_emu_PP_wide.pdf')"
   ]
  },
  {
   "cell_type": "code",
   "execution_count": null,
   "metadata": {
    "id": "8YWugoxlCFdG"
   },
   "outputs": [],
   "source": []
  }
 ],
 "metadata": {
  "accelerator": "GPU",
  "anaconda-cloud": {},
  "colab": {
   "collapsed_sections": [
    "8NQyktNjPrHg",
    "ayqZj7aj1XFL",
    "7GIndU8g2qTk",
    "83cCKejC81q5",
    "iaX4XSZLvIup",
    "qB6Kr7fSJqtS",
    "ZH-y08FC54bH"
   ],
   "name": "cosmopower_CMB_PCAplusNN_training.ipynb",
   "provenance": []
  },
  "kernelspec": {
   "display_name": "Python 3",
   "language": "python",
   "name": "python3"
  },
  "language_info": {
   "codemirror_mode": {
    "name": "ipython",
    "version": 3
   },
   "file_extension": ".py",
   "mimetype": "text/x-python",
   "name": "python",
   "nbconvert_exporter": "python",
   "pygments_lexer": "ipython3",
   "version": "3.5.2"
  }
 },
 "nbformat": 4,
 "nbformat_minor": 1
}
