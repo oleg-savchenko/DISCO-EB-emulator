{
 "cells": [
  {
   "cell_type": "code",
   "execution_count": 2,
   "metadata": {},
   "outputs": [],
   "source": [
    "\"\"\"\n",
    "CosmoPower-JAX Training Script\n",
    "\n",
    "Author: A. Spurio Mancini\n",
    "\"\"\"\n",
    "\n",
    "import os\n",
    "import pickle\n",
    "import numpy as np\n",
    "import jax\n",
    "import jax.numpy as jnp\n",
    "from jax import random, grad, jit, vmap\n",
    "from jax.nn import sigmoid\n",
    "import optax\n",
    "from typing import Tuple, List, Dict, Any, Optional\n",
    "from dataclasses import dataclass\n",
    "from tqdm import tqdm\n",
    "from cosmopower_jax.cosmopower_jax import CosmoPowerJAX"
   ]
  },
  {
   "cell_type": "code",
   "execution_count": 13,
   "metadata": {},
   "outputs": [
    {
     "name": "stdout",
     "output_type": "stream",
     "text": [
      "cosmopower_jax                    0.5.5\n",
      "diffrax                           0.7.0\n",
      "jax                               0.5.0\n",
      "jax_autovmap                      0.2.1\n",
      "jax-cosmo                         0.1.0\n",
      "jax-cuda12-pjrt                   0.5.0\n",
      "jax-cuda12-plugin                 0.5.0\n",
      "jax-tqdm                          0.1.1\n",
      "jaxlib                            0.5.0\n",
      "jaxopt                            0.6\n",
      "jaxtyping                         0.2.34\n",
      "numpy                             1.26.4\n"
     ]
    }
   ],
   "source": [
    "!pip list | grep -E 'jax|numpy|diffrax'"
   ]
  },
  {
   "cell_type": "code",
   "execution_count": 3,
   "metadata": {},
   "outputs": [
    {
     "name": "stdout",
     "output_type": "stream",
     "text": [
      "torch.cuda.is_available() = True\n"
     ]
    }
   ],
   "source": [
    "import torch\n",
    "print(f\"torch.cuda.is_available() = {torch.cuda.is_available()}\")"
   ]
  },
  {
   "cell_type": "code",
   "execution_count": 7,
   "metadata": {},
   "outputs": [
    {
     "name": "stdout",
     "output_type": "stream",
     "text": [
      "Fri Aug  1 12:56:27 2025       \n",
      "+-----------------------------------------------------------------------------------------+\n",
      "| NVIDIA-SMI 575.57.08              Driver Version: 575.57.08      CUDA Version: 12.9     |\n",
      "|-----------------------------------------+------------------------+----------------------+\n",
      "| GPU  Name                 Persistence-M | Bus-Id          Disp.A | Volatile Uncorr. ECC |\n",
      "| Fan  Temp   Perf          Pwr:Usage/Cap |           Memory-Usage | GPU-Util  Compute M. |\n",
      "|                                         |                        |               MIG M. |\n",
      "|=========================================+========================+======================|\n",
      "|   0  NVIDIA A100-SXM4-40GB          On  |   00000000:CA:00.0 Off |                    0 |\n",
      "| N/A   29C    P0             52W /  400W |       5MiB /  40960MiB |      0%      Default |\n",
      "|                                         |                        |             Disabled |\n",
      "+-----------------------------------------+------------------------+----------------------+\n",
      "                                                                                         \n",
      "+-----------------------------------------------------------------------------------------+\n",
      "| Processes:                                                                              |\n",
      "|  GPU   GI   CI              PID   Type   Process name                        GPU Memory |\n",
      "|        ID   ID                                                               Usage      |\n",
      "|=========================================================================================|\n",
      "|  No running processes found                                                             |\n",
      "+-----------------------------------------------------------------------------------------+\n"
     ]
    }
   ],
   "source": [
    "!nvidia-smi"
   ]
  },
  {
   "cell_type": "code",
   "execution_count": 6,
   "metadata": {},
   "outputs": [
    {
     "name": "stdout",
     "output_type": "stream",
     "text": [
      "nvcc: NVIDIA (R) Cuda compiler driver\n",
      "Copyright (c) 2005-2022 NVIDIA Corporation\n",
      "Built on Tue_May__3_18:49:52_PDT_2022\n",
      "Cuda compilation tools, release 11.7, V11.7.64\n",
      "Build cuda_11.7.r11.7/compiler.31294372_0\n"
     ]
    },
    {
     "name": "stderr",
     "output_type": "stream",
     "text": [
      "/sw/arch/RHEL8/EB_production/2022/software/Python/3.10.4-GCCcore-11.3.0/lib/python3.10/pty.py:89: RuntimeWarning: os.fork() was called. os.fork() is incompatible with multithreaded code, and JAX is multithreaded, so this will likely lead to a deadlock.\n",
      "  pid, fd = os.forkpty()\n"
     ]
    }
   ],
   "source": [
    "!nvcc --version"
   ]
  },
  {
   "cell_type": "code",
   "execution_count": 9,
   "metadata": {},
   "outputs": [
    {
     "data": {
      "text/plain": [
       "[CpuDevice(id=0)]"
      ]
     },
     "execution_count": 9,
     "metadata": {},
     "output_type": "execute_result"
    }
   ],
   "source": [
    "jax.devices()"
   ]
  },
  {
   "cell_type": "markdown",
   "metadata": {},
   "source": [
    "### Dummy data"
   ]
  },
  {
   "cell_type": "code",
   "execution_count": 2,
   "metadata": {},
   "outputs": [],
   "source": [
    "def generate_dummy_data(probe: str, n_samples: int = 10000) -> Tuple[np.ndarray, np.ndarray, List[str], np.ndarray]:\n",
    "    \"\"\"Generate dummy training data for testing.\"\"\"\n",
    "\n",
    "    if probe in ['cmb_tt', 'cmb_ee', 'cmb_te', 'cmb_pp']:\n",
    "        # CMB parameters: omega_b, omega_cdm, h, tau, n_s, ln10^10A_s\n",
    "        parameters = ['omega_b', 'omega_cdm', 'h', 'tau_reio', 'n_s', 'ln10^{10}A_s']\n",
    "        params = np.array([\n",
    "            np.random.uniform(0.019, 0.025, n_samples),  # omega_b\n",
    "            np.random.uniform(0.10, 0.14, n_samples),   # omega_cdm\n",
    "            np.random.uniform(0.64, 0.74, n_samples),   # h\n",
    "            np.random.uniform(0.04, 0.12, n_samples),   # tau\n",
    "            np.random.uniform(0.92, 1.00, n_samples),   # n_s\n",
    "            np.random.uniform(2.9, 3.3, n_samples)      # ln10^10A_s\n",
    "        ]).T\n",
    "\n",
    "        # CMB modes (ell)\n",
    "        modes = np.arange(2, 2509)\n",
    "        n_modes = len(modes)\n",
    "\n",
    "        # Generate dummy spectra with realistic CMB-like shape\n",
    "        spectra = np.zeros((n_samples, n_modes))\n",
    "        for i in range(n_samples):\n",
    "            # Simple CMB-like power spectrum\n",
    "            ell = modes.astype(float)\n",
    "            As = 10**(params[i, 5] - 10)  # A_s\n",
    "            ns = params[i, 4]             # n_s\n",
    "\n",
    "            # Simplified CMB spectrum\n",
    "            spectra[i] = As * (ell / 100)**(ns - 1) * np.exp(-ell / 1000) * 1e12\n",
    "\n",
    "    elif probe in ['mpk_lin', 'mpk_boost']:\n",
    "        # Matter power spectrum parameters\n",
    "        parameters = ['omega_b', 'omega_cdm', 'h', 'n_s', 'ln10^{10}A_s', 'z']\n",
    "        params = np.array([\n",
    "            np.random.uniform(0.019, 0.025, n_samples),  # omega_b\n",
    "            np.random.uniform(0.10, 0.14, n_samples),   # omega_cdm\n",
    "            np.random.uniform(0.64, 0.74, n_samples),   # h\n",
    "            np.random.uniform(0.92, 1.00, n_samples),   # n_s\n",
    "            np.random.uniform(2.9, 3.3, n_samples),     # ln10^10A_s\n",
    "            np.random.uniform(0.0, 3.0, n_samples)      # z\n",
    "        ]).T\n",
    "\n",
    "        # k modes\n",
    "        modes = np.logspace(-4, 2, 420)  # k in h/Mpc\n",
    "        n_modes = len(modes)\n",
    "\n",
    "        # Generate dummy matter power spectra\n",
    "        spectra = np.zeros((n_samples, n_modes))\n",
    "        for i in range(n_samples):\n",
    "            k = modes\n",
    "            As = 10**(params[i, 4] - 10)  # A_s\n",
    "            ns = params[i, 3]             # n_s\n",
    "            z = params[i, 5]              # redshift\n",
    "\n",
    "            # Simple matter power spectrum\n",
    "            if probe == 'mpk_lin':\n",
    "                spectra[i] = As * (k / 0.05)**(ns - 1) * (1 + z)**(-2) * 1e4\n",
    "            else:  # mpk_boost\n",
    "                spectra[i] = 1 + 0.1 * k * (1 + z)  # Simple boost factor\n",
    "\n",
    "    else:\n",
    "        raise ValueError(f\"Unknown probe: {probe}\")\n",
    "\n",
    "    return params, spectra, parameters, modes"
   ]
  },
  {
   "cell_type": "code",
   "execution_count": 3,
   "metadata": {},
   "outputs": [],
   "source": [
    "params, spectra, parameters, modes = generate_dummy_data(probe = 'mpk_lin', n_samples = 10000)"
   ]
  },
  {
   "cell_type": "code",
   "execution_count": 5,
   "metadata": {},
   "outputs": [
    {
     "name": "stdout",
     "output_type": "stream",
     "text": [
      "Array size: 33.60 MB\n"
     ]
    }
   ],
   "source": [
    "spectra.shape\n",
    "print(f\"Array size: {spectra.nbytes / 1e6:.2f} MB\")"
   ]
  },
  {
   "cell_type": "code",
   "execution_count": null,
   "metadata": {},
   "outputs": [],
   "source": []
  },
  {
   "cell_type": "code",
   "execution_count": null,
   "metadata": {},
   "outputs": [],
   "source": []
  }
 ],
 "metadata": {
  "kernelspec": {
   "display_name": "Python 3 (ipykernel)",
   "language": "python",
   "name": "python3"
  },
  "language_info": {
   "codemirror_mode": {
    "name": "ipython",
    "version": 3
   },
   "file_extension": ".py",
   "mimetype": "text/x-python",
   "name": "python",
   "nbconvert_exporter": "python",
   "pygments_lexer": "ipython3",
   "version": "3.10.4"
  }
 },
 "nbformat": 4,
 "nbformat_minor": 2
}
